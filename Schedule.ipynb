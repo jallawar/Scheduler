{
 "cells": [
  {
   "cell_type": "code",
   "execution_count": 1,
   "metadata": {
    "pycharm": {
     "is_executing": false
    }
   },
   "outputs": [],
   "source": [
    "# Configuration\n",
    "file_name = \"schedule.txt\"\n",
    "sem_start = '2020-01-'\n",
    "sem_end = '20200503'\n",
    "day_to_date = {\"MO\":27, \"TU\":21, \"WE\":22, \"TH\":23, \"FR\":24}"
   ]
  },
  {
   "cell_type": "code",
   "execution_count": 2,
   "metadata": {
    "pycharm": {
     "is_executing": false
    }
   },
   "outputs": [],
   "source": [
    "# File handling\n",
    "f = open(file_name,\"r\")\n",
    "lines = f.read().splitlines()"
   ]
  },
  {
   "cell_type": "code",
   "execution_count": 3,
   "metadata": {
    "pycharm": {
     "is_executing": false
    }
   },
   "outputs": [],
   "source": [
    "# Create Schedule by Day\n",
    "Monday = lines[lines.index('Monday')+1:lines.index('Tuesday')-1]\n",
    "Tuesday = lines[lines.index('Tuesday')+1:lines.index('Wednesday')-1]\n",
    "Wednesday = lines[lines.index('Wednesday')+1:lines.index('Thursday')-1]\n",
    "Thursday = lines[lines.index('Thursday')+1:lines.index('Friday')-1]\n",
    "Friday = lines[lines.index('Friday')+1:]\n",
    "schedule_by_day = [Monday, Tuesday, Wednesday, Thursday, Friday]"
   ]
  },
  {
   "cell_type": "code",
   "execution_count": 13,
   "metadata": {
    "pycharm": {
     "is_executing": false
    }
   },
   "outputs": [],
   "source": [
    "# Create master event variable\n",
    "master = []\n",
    "i = -1\n",
    "for day in schedule_by_day:\n",
    "    i = i+1\n",
    "    classes = day[0::5]\n",
    "    lectures = day[1::5]\n",
    "    locations = day[2::5]\n",
    "    times = day[3::5]\n",
    "    d = [\"MO\", \"TU\", \"WE\", \"TH\", \"FR\"]\n",
    "    for e in range(0, len(classes)):\n",
    "            a = times[e].split(\"to\")\n",
    "            a[0] = a[0].strip()\n",
    "            a[1] = a[1].strip()\n",
    "\n",
    "            if 'AM' in a[0]:\n",
    "                start_time = a[0].split(\" \")[0]\n",
    "            elif 'PM' in a[0]:\n",
    "                start_time = a[0].split(\" \")[0]\n",
    "                if(start_time[0:2]!='12'):\n",
    "                    start_time = str(int(start_time[0:start_time.index(':')])+12) + start_time[start_time.index(':'):]\n",
    "\n",
    "            if 'AM' in a[1]:\n",
    "                end_time = a[1].split(\" \")[0]\n",
    "            elif 'PM' in a[1]:\n",
    "                end_time = a[1].split(\" \")[0]\n",
    "                if(end_time[0:2]!='12'):\n",
    "                    end_time = str(int(end_time[0:end_time.index(':')])+12) + end_time[end_time.index(':'):]\n",
    "                \n",
    "            event = {\n",
    "                'summary': classes[e],\n",
    "                'location': locations[e] + ', Madison, WI 53706',\n",
    "                'description': lectures[e],\n",
    "                'start': {\n",
    "                    'dateTime': sem_start + str(day_to_date[d[i]]) +'T'+start_time+':00-06:00',#Change to -5 for DS\n",
    "                    'timeZone': 'America/Chicago',\n",
    "                },\n",
    "                'end': {\n",
    "                    'dateTime': sem_start + str(day_to_date[d[i]]) + 'T'+end_time+':00-06:00',#Change to -5 for DS\n",
    "                    'timeZone': 'America/Chicago',\n",
    "                },\n",
    "                'recurrence': [\n",
    "                    'RRULE:FREQ=WEEKLY;UNTIL='+sem_end+';BYDAY='+d[i]\n",
    "                ],\n",
    "                'reminders': {\n",
    "                    'useDefault': False,\n",
    "                    'overrides': [\n",
    "                      {'method': 'popup', 'minutes': 15},\n",
    "                    ],\n",
    "                },\n",
    "            }\n",
    "            master.append(event)"
   ]
  },
  {
   "cell_type": "code",
   "execution_count": 5,
   "metadata": {
    "pycharm": {
     "is_executing": false
    }
   },
   "outputs": [],
   "source": [
    "# Import Google Calendar API and define event creation function\n",
    "from cal_setup import get_calendar_service\n",
    "\n",
    "\n",
    "def create(event):\n",
    "    service = get_calendar_service()\n",
    "\n",
    "    event_result = service.events().insert(calendarId='primary',\n",
    "        body=event).execute()\n",
    "\n",
    "    print(\"created event\")\n",
    "    print(\"id: \", event_result['id'])\n",
    "    print(\"summary: \", event_result['summary'])\n",
    "    print(\"starts at: \", event_result['start']['dateTime'])\n",
    "    print(\"ends at: \", event_result['end']['dateTime'])"
   ]
  },
  {
   "cell_type": "code",
   "execution_count": 14,
   "metadata": {
    "pycharm": {
     "is_executing": false
    }
   },
   "outputs": [
    {
     "name": "stdout",
     "output_type": "stream",
     "text": [
      "created event\n",
      "id:  k6fn0524ouaq7l585g35i1emhg\n",
      "summary:  MATH 490:  Undergraduate Seminar\n",
      "starts at:  2020-01-27T09:55:00-06:00\n",
      "ends at:  2020-01-27T10:45:00-06:00\n",
      "created event\n",
      "id:  10geo0n77ta7gu51papd2nmb2s\n",
      "summary:  MATH 521:  Analysis I\n",
      "starts at:  2020-01-27T12:05:00-06:00\n",
      "ends at:  2020-01-27T12:55:00-06:00\n",
      "created event\n",
      "id:  hm750icmptk54db85bkp8q751c\n",
      "summary:  E C E 230:  Circuit Analysis\n",
      "starts at:  2020-01-27T13:20:00-06:00\n",
      "ends at:  2020-01-27T14:10:00-06:00\n",
      "created event\n",
      "id:  nnhpaje6jpcl0933t8v0kskfjk\n",
      "summary:  E C E 230:  Circuit Analysis\n",
      "starts at:  2020-01-27T13:20:00-06:00\n",
      "ends at:  2020-01-27T14:10:00-06:00\n",
      "created event\n",
      "id:  a8l8p0jdhlqa1memn9puef442k\n",
      "summary:  E C E 270:  Circuits Laboratory I\n",
      "starts at:  2020-01-27T14:25:00-06:00\n",
      "ends at:  2020-01-27T15:15:00-06:00\n",
      "created event\n",
      "id:  dbac13obcjr8lknqmt28kno5n0\n",
      "summary:  L I S 351:  Introduction to Digital Information\n",
      "starts at:  2020-01-21T09:55:00-06:00\n",
      "ends at:  2020-01-21T10:45:00-06:00\n",
      "created event\n",
      "id:  396aso2fpp524n63bsdrk41e20\n",
      "summary:  COMP SCI 300:  Programming II\n",
      "starts at:  2020-01-21T11:00:00-06:00\n",
      "ends at:  2020-01-21T12:15:00-06:00\n",
      "created event\n",
      "id:  u6u6h1pilmbpcb6p5maj9dtiec\n",
      "summary:  E C E 230:  Circuit Analysis\n",
      "starts at:  2020-01-21T13:20:00-06:00\n",
      "ends at:  2020-01-21T14:10:00-06:00\n",
      "created event\n",
      "id:  vmkb3eao002gkghch2t57kevus\n",
      "summary:  E C E 230:  Circuit Analysis\n",
      "starts at:  2020-01-21T13:20:00-06:00\n",
      "ends at:  2020-01-21T14:10:00-06:00\n",
      "created event\n",
      "id:  srhgr822h2s67cd1k7uruksa5g\n",
      "summary:  E C E 219:  Analytical Methods for Electromagnetics Engineering\n",
      "starts at:  2020-01-21T14:30:00-06:00\n",
      "ends at:  2020-01-21T15:45:00-06:00\n",
      "created event\n",
      "id:  jng3n1aj0iihm31r2gkv5c7kdg\n",
      "summary:  MATH 490:  Undergraduate Seminar\n",
      "starts at:  2020-01-22T09:55:00-06:00\n",
      "ends at:  2020-01-22T10:45:00-06:00\n",
      "created event\n",
      "id:  dkfl5k0t2c2n1f2595a6ic850s\n",
      "summary:  MATH 521:  Analysis I\n",
      "starts at:  2020-01-22T12:05:00-06:00\n",
      "ends at:  2020-01-22T12:55:00-06:00\n",
      "created event\n",
      "id:  cj6gtjj4ifk058rolqb6u2uk3k\n",
      "summary:  E C E 230:  Circuit Analysis\n",
      "starts at:  2020-01-22T13:20:00-06:00\n",
      "ends at:  2020-01-22T14:10:00-06:00\n",
      "created event\n",
      "id:  7v98i3d1rkqnhrbs6nfchl7fak\n",
      "summary:  E C E 270:  Circuits Laboratory I\n",
      "starts at:  2020-01-22T14:25:00-06:00\n",
      "ends at:  2020-01-22T15:15:00-06:00\n",
      "created event\n",
      "id:  3ul3ffvs9tdoehlvlto3vfjdi4\n",
      "summary:  COMP SCI 300:  Programming II\n",
      "starts at:  2020-01-23T11:00:00-06:00\n",
      "ends at:  2020-01-23T12:15:00-06:00\n",
      "created event\n",
      "id:  me0c18hm0f0gn051ir8jbma7us\n",
      "summary:  E C E 230:  Circuit Analysis\n",
      "starts at:  2020-01-23T13:20:00-06:00\n",
      "ends at:  2020-01-23T14:10:00-06:00\n",
      "created event\n",
      "id:  o1l1f6iddeclsvlbdkq112ekq8\n",
      "summary:  E C E 230:  Circuit Analysis\n",
      "starts at:  2020-01-23T13:20:00-06:00\n",
      "ends at:  2020-01-23T14:10:00-06:00\n",
      "created event\n",
      "id:  9qbf0e1a5nmi71p2sca5tci4d8\n",
      "summary:  E C E 219:  Analytical Methods for Electromagnetics Engineering\n",
      "starts at:  2020-01-23T14:30:00-06:00\n",
      "ends at:  2020-01-23T15:45:00-06:00\n",
      "created event\n",
      "id:  dl8gf2oq87e4r09v31r3oh0doc\n",
      "summary:  MATH 490:  Undergraduate Seminar\n",
      "starts at:  2020-01-24T09:55:00-06:00\n",
      "ends at:  2020-01-24T10:45:00-06:00\n",
      "created event\n",
      "id:  p6uie2h5tdcjshh4u3pk5d3pa8\n",
      "summary:  MATH 521:  Analysis I\n",
      "starts at:  2020-01-24T12:05:00-06:00\n",
      "ends at:  2020-01-24T12:55:00-06:00\n",
      "created event\n",
      "id:  eutld5fbi9ko45t6vmuhsk2cl8\n",
      "summary:  MUSIC 113:  Music in Performance\n",
      "starts at:  2020-01-24T13:20:00-06:00\n",
      "ends at:  2020-01-24T14:10:00-06:00\n",
      "created event\n",
      "id:  kas3knemoduho0o522hmnbeq3c\n",
      "summary:  E C E 270:  Circuits Laboratory I\n",
      "starts at:  2020-01-24T14:25:00-06:00\n",
      "ends at:  2020-01-24T15:15:00-06:00\n"
     ]
    }
   ],
   "source": [
    "# Sync schedule to Google Calendar\n",
    "for e in master:\n",
    "    create(e)"
   ]
  },
  {
   "cell_type": "code",
   "execution_count": 11,
   "metadata": {},
   "outputs": [
    {
     "data": {
      "text/plain": [
       "{'summary': 'MATH 521:  Analysis I',\n",
       " 'location': 'B119 Van Vleck Hall, Madison, WI 53706',\n",
       " 'description': 'LEC 002',\n",
       " 'start': {'dateTime': '2020-01-27T12:05:00-06:00',\n",
       "  'timeZone': 'America/Chicago'},\n",
       " 'end': {'dateTime': '2020-01-27T12:55:00-06:00',\n",
       "  'timeZone': 'America/Chicago'},\n",
       " 'recurrence': ['RRULE:FREQ=WEEKLY;UNTIL=20200503;BYDAY=MO'],\n",
       " 'reminders': {'useDefault': False,\n",
       "  'overrides': [{'method': 'popup', 'minutes': 15}]}}"
      ]
     },
     "execution_count": 11,
     "metadata": {},
     "output_type": "execute_result"
    }
   ],
   "source": [
    "master[1]"
   ]
  },
  {
   "cell_type": "code",
   "execution_count": 12,
   "metadata": {},
   "outputs": [
    {
     "name": "stdout",
     "output_type": "stream",
     "text": [
      "created event\n",
      "id:  dmqspdp41jld0fm0pekek3qcec\n",
      "summary:  MATH 521:  Analysis I\n",
      "starts at:  2020-01-27T12:05:00-06:00\n",
      "ends at:  2020-01-27T12:55:00-06:00\n"
     ]
    }
   ],
   "source": [
    "create(master[1])"
   ]
  },
  {
   "cell_type": "code",
   "execution_count": null,
   "metadata": {},
   "outputs": [],
   "source": []
  }
 ],
 "metadata": {
  "kernelspec": {
   "display_name": "Python 3",
   "language": "python",
   "name": "python3"
  },
  "language_info": {
   "codemirror_mode": {
    "name": "ipython",
    "version": 3
   },
   "file_extension": ".py",
   "mimetype": "text/x-python",
   "name": "python",
   "nbconvert_exporter": "python",
   "pygments_lexer": "ipython3",
   "version": "3.7.6"
  },
  "pycharm": {
   "stem_cell": {
    "cell_type": "raw",
    "source": [],
    "metadata": {
     "collapsed": false
    }
   }
  }
 },
 "nbformat": 4,
 "nbformat_minor": 1
}