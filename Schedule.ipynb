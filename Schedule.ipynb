{
 "cells": [
  {
   "cell_type": "code",
   "execution_count": 2,
   "metadata": {
    "pycharm": {
     "is_executing": false
    }
   },
   "outputs": [],
   "source": [
    "f = open(\"schedule.txt\",\"r\")\n",
    "lines = f.read().splitlines()"
   ]
  },
  {
   "cell_type": "code",
   "execution_count": 15,
   "metadata": {},
   "outputs": [
    {
     "name": "stdout",
     "output_type": "stream",
     "text": [
      "Enter semester: spring\n"
     ]
    }
   ],
   "source": [
    "sem = input(\"Enter semester: \")\n",
    "if(sem == 'fall'):\n",
    "    sem_start = '2019-09-05'\n",
    "    sem_end = '20191212'\n",
    "else:\n",
    "    sem_start = '2020-01-21'\n",
    "    sem_end = '20190503'"
   ]
  },
  {
   "cell_type": "code",
   "execution_count": 4,
   "metadata": {},
   "outputs": [],
   "source": [
    "Monday = lines[lines.index('Monday')+1:lines.index('Tuesday')-1]\n",
    "Tuesday = lines[lines.index('Tuesday')+1:lines.index('Wednesday')-1]\n",
    "Wednesday = lines[lines.index('Wednesday')+1:lines.index('Thursday')-1]\n",
    "Thursday = lines[lines.index('Thursday')+1:lines.index('Friday')-1]\n",
    "Friday = lines[lines.index('Friday')+1:]\n",
    "schedule_by_day = [Monday, Tuesday, Wednesday, Thursday, Friday]"
   ]
  },
  {
   "cell_type": "code",
   "execution_count": 5,
   "metadata": {},
   "outputs": [],
   "source": [
    "master = []\n",
    "i = -1\n",
    "for day in schedule_by_day:\n",
    "    i = i+1\n",
    "    classes = day[0::5]\n",
    "    lectures = day[1::5]\n",
    "    locations = day[2::5]\n",
    "    times = day[3::5]\n",
    "    d = [\"MO\", \"TU\", \"WE\", \"TH\", \"FR\"]\n",
    "    for e in range(0, len(classes)):\n",
    "            a = times[e].split(\"to\")\n",
    "            a[0] = a[0].strip()\n",
    "            a[1] = a[1].strip()\n",
    "\n",
    "            if 'AM' in a[0]:\n",
    "                start_time = a[0].split(\" \")[0]\n",
    "            elif 'PM' in a[0]:\n",
    "                start_time = a[0].split(\" \")[0]\n",
    "                if(start_time[0:2]!='12'):\n",
    "                    start_time = str(int(start_time[0:start_time.index(':')])+12) + start_time[start_time.index(':'):]\n",
    "\n",
    "            if 'AM' in a[1]:\n",
    "                end_time = a[1].split(\" \")[0]\n",
    "            elif 'PM' in a[1]:\n",
    "                end_time = a[1].split(\" \")[0]\n",
    "                if(end_time[0:2]!='12'):\n",
    "                    end_time = str(int(end_time[0:end_time.index(':')])+12) + end_time[end_time.index(':'):]\n",
    "                \n",
    "            event = {\n",
    "                'summary': classes[e],\n",
    "                'location': locations[e] + ', Madison, WI 53706',\n",
    "                'description': lectures[e],\n",
    "                'start': {\n",
    "                    'dateTime': sem_start + 'T'+start_time+':00-05:00',\n",
    "                    'timeZone': 'America/Chicago',\n",
    "                },\n",
    "                'end': {\n",
    "                    'dateTime': sem_start + 'T'+end_time+':00-05:00',\n",
    "                    'timeZone': 'America/Chicago',\n",
    "                },\n",
    "                'recurrence': [\n",
    "                    'RRULE:FREQ=WEEKLY;UNTIL='+sem_end+';BYDAY='+d[i]\n",
    "                ],\n",
    "                'reminders': {\n",
    "                    'useDefault': False,\n",
    "                    'overrides': [\n",
    "                      {'method': 'popup', 'minutes': 15},\n",
    "                    ],\n",
    "                },\n",
    "            }\n",
    "            master.append(event)"
   ]
  },
  {
   "cell_type": "code",
   "execution_count": null,
   "metadata": {},
   "outputs": [],
   "source": []
  },
  {
   "cell_type": "code",
   "execution_count": 12,
   "metadata": {},
   "outputs": [],
   "source": [
    "from datetime import datetime, timedelta\n",
    "from cal_setup import get_calendar_service\n",
    "\n",
    "\n",
    "def create(event):\n",
    "    # creates one hour event tomorrow 10 AM IST\n",
    "    service = get_calendar_service()\n",
    "\n",
    "    event_result = service.events().insert(calendarId='primary',\n",
    "        body=event).execute()\n",
    "\n",
    "    print(\"created event\")\n",
    "    print(\"id: \", event_result['id'])\n",
    "    print(\"summary: \", event_result['summary'])\n",
    "    print(\"starts at: \", event_result['start']['dateTime'])\n",
    "    print(\"ends at: \", event_result['end']['dateTime'])"
   ]
  },
  {
   "cell_type": "code",
   "execution_count": 14,
   "metadata": {},
   "outputs": [
    {
     "name": "stdout",
     "output_type": "stream",
     "text": [
      "Please visit this URL to authorize this application: https://accounts.google.com/o/oauth2/auth?response_type=code&client_id=731019933795-39haj4td4n10fqk2aure8t7ha713ue66.apps.googleusercontent.com&redirect_uri=http%3A%2F%2Flocalhost%3A51810%2F&scope=https%3A%2F%2Fwww.googleapis.com%2Fauth%2Fcalendar&state=nZX8ZMZWVaiHLO1DFWtJzb2HctxHpb&access_type=offline\n",
      "created event\n",
      "id:  1jansd3mgdea4f5fugjq2s0ef0\n",
      "summary:  E C E 352:  Digital System Fundamentals\n",
      "starts at:  2019-09-05T11:00:00-05:00\n",
      "ends at:  2019-09-05T11:50:00-05:00\n"
     ]
    }
   ],
   "source": [
    "create(master[19])"
   ]
  },
  {
   "cell_type": "code",
   "execution_count": 8,
   "metadata": {},
   "outputs": [
    {
     "data": {
      "text/plain": [
       "{'summary': 'E C E 352:  Digital System Fundamentals',\n",
       " 'location': '410 Wendt Commons, Madison, WI 53706',\n",
       " 'description': 'LEC 001',\n",
       " 'start': {'dateTime': '2019-09-05T11:00:00-05:00',\n",
       "  'timeZone': 'America/Chicago'},\n",
       " 'end': {'dateTime': '2019-09-05T11:50:00-05:00',\n",
       "  'timeZone': 'America/Chicago'},\n",
       " 'recurrence': ['RRULE:FREQ=WEEKLY;UNTIL=20191212;BYDAY=FR'],\n",
       " 'reminders': {'useDefault': False,\n",
       "  'overrides': [{'method': 'popup', 'minutes': 15}]}}"
      ]
     },
     "execution_count": 8,
     "metadata": {},
     "output_type": "execute_result"
    }
   ],
   "source": [
    "master[18]"
   ]
  },
  {
   "cell_type": "code",
   "execution_count": null,
   "metadata": {},
   "outputs": [],
   "source": [
    "type(day)"
   ]
  },
  {
   "cell_type": "code",
   "execution_count": null,
   "metadata": {},
   "outputs": [],
   "source": []
  }
 ],
 "metadata": {
  "kernelspec": {
   "display_name": "Python 3",
   "language": "python",
   "name": "python3"
  },
  "language_info": {
   "codemirror_mode": {
    "name": "ipython",
    "version": 3
   },
   "file_extension": ".py",
   "mimetype": "text/x-python",
   "name": "python",
   "nbconvert_exporter": "python",
   "pygments_lexer": "ipython3",
   "version": "3.7.4"
  }
 },
 "nbformat": 4,
 "nbformat_minor": 1
}
