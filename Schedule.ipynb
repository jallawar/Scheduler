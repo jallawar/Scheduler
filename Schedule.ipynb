{
 "cells": [
  {
   "cell_type": "code",
   "execution_count": 1,
   "metadata": {},
   "outputs": [],
   "source": [
    "# Configuration\n",
    "file_name = \"schedule.txt\"\n",
    "sem_start = '2020-01-'\n",
    "sem_end = '20200503'\n",
    "day_to_date = {\"MO\":27, \"TU\":21, \"WE\":22, \"TH\":23, \"FR\":24}"
   ]
  },
  {
   "cell_type": "code",
   "execution_count": 2,
   "metadata": {},
   "outputs": [],
   "source": [
    "# File handling\n",
    "f = open(file_name,\"r\")\n",
    "lines = f.read().splitlines()"
   ]
  },
  {
   "cell_type": "code",
   "execution_count": 3,
   "metadata": {},
   "outputs": [],
   "source": [
    "# Create Schedule by Day\n",
    "Monday = lines[lines.index('Monday')+1:lines.index('Tuesday')-1]\n",
    "Tuesday = lines[lines.index('Tuesday')+1:lines.index('Wednesday')-1]\n",
    "Wednesday = lines[lines.index('Wednesday')+1:lines.index('Thursday')-1]\n",
    "Thursday = lines[lines.index('Thursday')+1:lines.index('Friday')-1]\n",
    "Friday = lines[lines.index('Friday')+1:]\n",
    "schedule_by_day = [Monday, Tuesday, Wednesday, Thursday, Friday]"
   ]
  },
  {
   "cell_type": "code",
   "execution_count": 4,
   "metadata": {},
   "outputs": [],
   "source": [
    "# Create master event variable\n",
    "master = []\n",
    "i = -1\n",
    "for day in schedule_by_day:\n",
    "    i = i+1\n",
    "    classes = day[0::5]\n",
    "    lectures = day[1::5]\n",
    "    locations = day[2::5]\n",
    "    times = day[3::5]\n",
    "    d = [\"MO\", \"TU\", \"WE\", \"TH\", \"FR\"]\n",
    "    for e in range(0, len(classes)):\n",
    "            a = times[e].split(\"to\")\n",
    "            a[0] = a[0].strip()\n",
    "            a[1] = a[1].strip()\n",
    "\n",
    "            if 'AM' in a[0]:\n",
    "                start_time = a[0].split(\" \")[0]\n",
    "            elif 'PM' in a[0]:\n",
    "                start_time = a[0].split(\" \")[0]\n",
    "                if(start_time[0:2]!='12'):\n",
    "                    start_time = str(int(start_time[0:start_time.index(':')])+12) + start_time[start_time.index(':'):]\n",
    "\n",
    "            if 'AM' in a[1]:\n",
    "                end_time = a[1].split(\" \")[0]\n",
    "            elif 'PM' in a[1]:\n",
    "                end_time = a[1].split(\" \")[0]\n",
    "                if(end_time[0:2]!='12'):\n",
    "                    end_time = str(int(end_time[0:end_time.index(':')])+12) + end_time[end_time.index(':'):]\n",
    "                \n",
    "            event = {\n",
    "                'summary': classes[e],\n",
    "                'location': locations[e] + ', Madison, WI 53706',\n",
    "                'description': lectures[e],\n",
    "                'start': {\n",
    "                    'dateTime': sem_start + str(day_to_date[d[i]]) +'T'+start_time+':00-05:00',\n",
    "                    'timeZone': 'America/Chicago',\n",
    "                },\n",
    "                'end': {\n",
    "                    'dateTime': sem_start + str(day_to_date[d[i]]) + 'T'+end_time+':00-05:00',\n",
    "                    'timeZone': 'America/Chicago',\n",
    "                },\n",
    "                'recurrence': [\n",
    "                    'RRULE:FREQ=WEEKLY;UNTIL='+sem_end+';BYDAY='+d[i]\n",
    "                ],\n",
    "                'reminders': {\n",
    "                    'useDefault': False,\n",
    "                    'overrides': [\n",
    "                      {'method': 'popup', 'minutes': 15},\n",
    "                    ],\n",
    "                },\n",
    "            }\n",
    "            master.append(event)"
   ]
  },
  {
   "cell_type": "code",
   "execution_count": 5,
   "metadata": {},
   "outputs": [
    {
     "ename": "ModuleNotFoundError",
     "evalue": "No module named 'googleapiclient'",
     "output_type": "error",
     "traceback": [
      "\u001b[1;31m---------------------------------------------------------------------------\u001b[0m",
      "\u001b[1;31mModuleNotFoundError\u001b[0m                       Traceback (most recent call last)",
      "\u001b[1;32m<ipython-input-5-9c45c04324fd>\u001b[0m in \u001b[0;36m<module>\u001b[1;34m\u001b[0m\n\u001b[0;32m      1\u001b[0m \u001b[1;31m# Import Google Calendar API and define event creation function\u001b[0m\u001b[1;33m\u001b[0m\u001b[1;33m\u001b[0m\u001b[1;33m\u001b[0m\u001b[0m\n\u001b[1;32m----> 2\u001b[1;33m \u001b[1;32mfrom\u001b[0m \u001b[0mcal_setup\u001b[0m \u001b[1;32mimport\u001b[0m \u001b[0mget_calendar_service\u001b[0m\u001b[1;33m\u001b[0m\u001b[1;33m\u001b[0m\u001b[0m\n\u001b[0m\u001b[0;32m      3\u001b[0m \u001b[1;33m\u001b[0m\u001b[0m\n\u001b[0;32m      4\u001b[0m \u001b[1;33m\u001b[0m\u001b[0m\n\u001b[0;32m      5\u001b[0m \u001b[1;32mdef\u001b[0m \u001b[0mcreate\u001b[0m\u001b[1;33m(\u001b[0m\u001b[0mevent\u001b[0m\u001b[1;33m)\u001b[0m\u001b[1;33m:\u001b[0m\u001b[1;33m\u001b[0m\u001b[1;33m\u001b[0m\u001b[0m\n",
      "\u001b[1;32m~\\PycharmProjects\\Scheduler\\cal_setup.py\u001b[0m in \u001b[0;36m<module>\u001b[1;34m\u001b[0m\n\u001b[0;32m      1\u001b[0m \u001b[1;32mimport\u001b[0m \u001b[0mpickle\u001b[0m\u001b[1;33m\u001b[0m\u001b[1;33m\u001b[0m\u001b[0m\n\u001b[0;32m      2\u001b[0m \u001b[1;32mimport\u001b[0m \u001b[0mos\u001b[0m\u001b[1;33m.\u001b[0m\u001b[0mpath\u001b[0m\u001b[1;33m\u001b[0m\u001b[1;33m\u001b[0m\u001b[0m\n\u001b[1;32m----> 3\u001b[1;33m \u001b[1;32mfrom\u001b[0m \u001b[0mgoogleapiclient\u001b[0m\u001b[1;33m.\u001b[0m\u001b[0mdiscovery\u001b[0m \u001b[1;32mimport\u001b[0m \u001b[0mbuild\u001b[0m\u001b[1;33m\u001b[0m\u001b[1;33m\u001b[0m\u001b[0m\n\u001b[0m\u001b[0;32m      4\u001b[0m \u001b[1;32mfrom\u001b[0m \u001b[0mgoogle_auth_oauthlib\u001b[0m\u001b[1;33m.\u001b[0m\u001b[0mflow\u001b[0m \u001b[1;32mimport\u001b[0m \u001b[0mInstalledAppFlow\u001b[0m\u001b[1;33m\u001b[0m\u001b[1;33m\u001b[0m\u001b[0m\n\u001b[0;32m      5\u001b[0m \u001b[1;32mfrom\u001b[0m \u001b[0mgoogle\u001b[0m\u001b[1;33m.\u001b[0m\u001b[0mauth\u001b[0m\u001b[1;33m.\u001b[0m\u001b[0mtransport\u001b[0m\u001b[1;33m.\u001b[0m\u001b[0mrequests\u001b[0m \u001b[1;32mimport\u001b[0m \u001b[0mRequest\u001b[0m\u001b[1;33m\u001b[0m\u001b[1;33m\u001b[0m\u001b[0m\n",
      "\u001b[1;31mModuleNotFoundError\u001b[0m: No module named 'googleapiclient'"
     ]
    }
   ],
   "source": [
    "# Import Google Calendar API and define event creation function\n",
    "from cal_setup import get_calendar_service\n",
    "\n",
    "\n",
    "def create(event):\n",
    "    service = get_calendar_service()\n",
    "\n",
    "    event_result = service.events().insert(calendarId='primary',\n",
    "        body=event).execute()\n",
    "\n",
    "    print(\"created event\")\n",
    "    print(\"id: \", event_result['id'])\n",
    "    print(\"summary: \", event_result['summary'])\n",
    "    print(\"starts at: \", event_result['start']['dateTime'])\n",
    "    print(\"ends at: \", event_result['end']['dateTime'])"
   ]
  },
  {
   "cell_type": "code",
   "execution_count": null,
   "metadata": {},
   "outputs": [],
   "source": [
    "# Sync schedule to Google Calendar\n",
    "for e in master:\n",
    "    create(e)"
   ]
  }
 ],
 "metadata": {
  "kernelspec": {
   "display_name": "Python 3",
   "language": "python",
   "name": "python3"
  },
  "language_info": {
   "codemirror_mode": {
    "name": "ipython",
    "version": 3
   },
   "file_extension": ".py",
   "mimetype": "text/x-python",
   "name": "python",
   "nbconvert_exporter": "python",
   "pygments_lexer": "ipython3",
   "version": "3.7.6"
  },
  "pycharm": {
   "stem_cell": {
    "cell_type": "raw",
    "metadata": {
     "collapsed": false
    },
    "source": []
   }
  }
 },
 "nbformat": 4,
 "nbformat_minor": 1
}
