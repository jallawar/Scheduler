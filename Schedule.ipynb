{
 "cells": [
  {
   "cell_type": "code",
   "execution_count": 77,
   "metadata": {
    "pycharm": {
     "is_executing": false
    }
   },
   "outputs": [],
   "source": [
    "f = open(\"schedule.txt\",\"r\")\n",
    "lines = f.read().splitlines()"
   ]
  },
  {
   "cell_type": "code",
   "execution_count": 123,
   "metadata": {},
   "outputs": [],
   "source": [
    "sem_start = '2020-01-'\n",
    "sem_end = '20200503'"
   ]
  },
  {
   "cell_type": "code",
   "execution_count": 79,
   "metadata": {},
   "outputs": [],
   "source": [
    "Monday = lines[lines.index('Monday')+1:lines.index('Tuesday')-1]\n",
    "Tuesday = lines[lines.index('Tuesday')+1:lines.index('Wednesday')-1]\n",
    "Wednesday = lines[lines.index('Wednesday')+1:lines.index('Thursday')-1]\n",
    "Thursday = lines[lines.index('Thursday')+1:lines.index('Friday')-1]\n",
    "Friday = lines[lines.index('Friday')+1:]\n",
    "schedule_by_day = [Monday, Tuesday, Wednesday, Thursday, Friday]"
   ]
  },
  {
   "cell_type": "code",
   "execution_count": 132,
   "metadata": {},
   "outputs": [
    {
     "data": {
      "text/plain": [
       "27"
      ]
     },
     "execution_count": 132,
     "metadata": {},
     "output_type": "execute_result"
    }
   ],
   "source": [
    "day_to_date ={\"MO\":27, \"TU\":21, \"WE\":22, \"TH\":23, \"FR\":24}"
   ]
  },
  {
   "cell_type": "code",
   "execution_count": 131,
   "metadata": {},
   "outputs": [],
   "source": [
    "master = []\n",
    "i = -1\n",
    "for day in schedule_by_day:\n",
    "    i = i+1\n",
    "    classes = day[0::5]\n",
    "    lectures = day[1::5]\n",
    "    locations = day[2::5]\n",
    "    times = day[3::5]\n",
    "    d = [\"MO\", \"TU\", \"WE\", \"TH\", \"FR\"]\n",
    "    for e in range(0, len(classes)):\n",
    "            a = times[e].split(\"to\")\n",
    "            a[0] = a[0].strip()\n",
    "            a[1] = a[1].strip()\n",
    "\n",
    "            if 'AM' in a[0]:\n",
    "                start_time = a[0].split(\" \")[0]\n",
    "            elif 'PM' in a[0]:\n",
    "                start_time = a[0].split(\" \")[0]\n",
    "                if(start_time[0:2]!='12'):\n",
    "                    start_time = str(int(start_time[0:start_time.index(':')])+12) + start_time[start_time.index(':'):]\n",
    "\n",
    "            if 'AM' in a[1]:\n",
    "                end_time = a[1].split(\" \")[0]\n",
    "            elif 'PM' in a[1]:\n",
    "                end_time = a[1].split(\" \")[0]\n",
    "                if(end_time[0:2]!='12'):\n",
    "                    end_time = str(int(end_time[0:end_time.index(':')])+12) + end_time[end_time.index(':'):]\n",
    "                \n",
    "            event = {\n",
    "                'summary': classes[e],\n",
    "                'location': locations[e] + ', Madison, WI 53706',\n",
    "                'description': lectures[e],\n",
    "                'start': {\n",
    "                    'dateTime': sem_start + str(day_to_date[d[i]]) +'T'+start_time+':00-05:00',\n",
    "                    'timeZone': 'America/Chicago',\n",
    "                },\n",
    "                'end': {\n",
    "                    'dateTime': sem_start + str(day_to_date[d[i]]) + 'T'+end_time+':00-05:00',\n",
    "                    'timeZone': 'America/Chicago',\n",
    "                },\n",
    "                'recurrence': [\n",
    "                    'RRULE:FREQ=WEEKLY;UNTIL='+sem_end+';BYDAY='+d[i]\n",
    "                ],\n",
    "                'reminders': {\n",
    "                    'useDefault': False,\n",
    "                    'overrides': [\n",
    "                      {'method': 'popup', 'minutes': 15},\n",
    "                    ],\n",
    "                },\n",
    "            }\n",
    "            master.append(event)"
   ]
  },
  {
   "cell_type": "code",
   "execution_count": 127,
   "metadata": {},
   "outputs": [
    {
     "data": {
      "text/plain": [
       "{'summary': 'MATH 521:  Analysis I',\n",
       " 'location': 'B119 Van Vleck Hall, Madison, WI 53706',\n",
       " 'description': 'LEC 002',\n",
       " 'start': {'dateTime': '2020-01-25T12:05:00-05:00',\n",
       "  'timeZone': 'America/Chicago'},\n",
       " 'end': {'dateTime': '2020-01-25T12:55:00-05:00',\n",
       "  'timeZone': 'America/Chicago'},\n",
       " 'recurrence': ['RRULE:FREQ=WEEKLY;UNTIL=20200503;BYDAY=FR'],\n",
       " 'reminders': {'useDefault': False,\n",
       "  'overrides': [{'method': 'popup', 'minutes': 15}]}}"
      ]
     },
     "execution_count": 127,
     "metadata": {},
     "output_type": "execute_result"
    }
   ],
   "source": [
    "master[19]"
   ]
  },
  {
   "cell_type": "code",
   "execution_count": 107,
   "metadata": {},
   "outputs": [],
   "source": [
    "from datetime import datetime, timedelta\n",
    "from cal_setup import get_calendar_service\n",
    "\n",
    "\n",
    "def create(event):\n",
    "    # creates one hour event tomorrow 10 AM IST\n",
    "    service = get_calendar_service()\n",
    "\n",
    "    event_result = service.events().insert(calendarId='primary',\n",
    "        body=event).execute()\n",
    "\n",
    "    print(\"created event\")\n",
    "    print(\"id: \", event_result['id'])\n",
    "    print(\"summary: \", event_result['summary'])\n",
    "    print(\"starts at: \", event_result['start']['dateTime'])\n",
    "    print(\"ends at: \", event_result['end']['dateTime'])"
   ]
  },
  {
   "cell_type": "code",
   "execution_count": 128,
   "metadata": {},
   "outputs": [
    {
     "name": "stdout",
     "output_type": "stream",
     "text": [
      "created event\n",
      "id:  s7g527opnfinpfvnjnrngj8rc0\n",
      "summary:  MATH 521:  Analysis I\n",
      "starts at:  2020-01-25T11:05:00-06:00\n",
      "ends at:  2020-01-25T11:55:00-06:00\n"
     ]
    }
   ],
   "source": [
    "for e in master:\n",
    "    create(e)"
   ]
  }
 ],
 "metadata": {
  "kernelspec": {
   "display_name": "Python 3",
   "language": "python",
   "name": "python3"
  },
  "language_info": {
   "codemirror_mode": {
    "name": "ipython",
    "version": 3
   },
   "file_extension": ".py",
   "mimetype": "text/x-python",
   "name": "python",
   "nbconvert_exporter": "python",
   "pygments_lexer": "ipython3",
   "version": "3.7.4"
  }
 },
 "nbformat": 4,
 "nbformat_minor": 1
}
